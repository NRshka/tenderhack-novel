{
 "cells": [
  {
   "cell_type": "markdown",
   "metadata": {},
   "source": [
    "### Imports"
   ]
  },
  {
   "cell_type": "code",
   "execution_count": 2,
   "metadata": {},
   "outputs": [],
   "source": [
    "import os\n",
    "os.environ[\"CUDA_DEVICE_ORDER\"]=\"PCI_BUS_ID\"   # see issue #152\n",
    "os.environ[\"CUDA_VISIBLE_DEVICES\"]=\"1\"\n",
    "DEVICE='cuda'"
   ]
  },
  {
   "cell_type": "code",
   "execution_count": 3,
   "metadata": {},
   "outputs": [],
   "source": [
    "import pandas as pd\n",
    "from ast import literal_eval\n",
    "import re\n",
    "import json\n",
    "import numpy as np\n",
    "from tqdm.notebook import tqdm"
   ]
  },
  {
   "cell_type": "code",
   "execution_count": 4,
   "metadata": {},
   "outputs": [],
   "source": [
    "import torch\n",
    "import torch.nn as nn"
   ]
  },
  {
   "cell_type": "code",
   "execution_count": 5,
   "metadata": {},
   "outputs": [],
   "source": [
    "from collections import Counter"
   ]
  },
  {
   "cell_type": "code",
   "execution_count": 6,
   "metadata": {},
   "outputs": [],
   "source": [
    "import scipy\n",
    "from scipy.sparse import dok_matrix"
   ]
  },
  {
   "cell_type": "code",
   "execution_count": 7,
   "metadata": {},
   "outputs": [],
   "source": [
    "from sklearn.feature_extraction.text import HashingVectorizer, CountVectorizer"
   ]
  },
  {
   "cell_type": "code",
   "execution_count": 8,
   "metadata": {},
   "outputs": [],
   "source": [
    "%matplotlib inline\n",
    "import matplotlib.pyplot as plt"
   ]
  },
  {
   "cell_type": "code",
   "execution_count": 9,
   "metadata": {},
   "outputs": [],
   "source": [
    "from catalyst.utils import set_global_seed, get_device\n",
    "\n",
    "\n",
    "set_global_seed(42)\n",
    "device = get_device()"
   ]
  },
  {
   "cell_type": "markdown",
   "metadata": {},
   "source": [
    "### Data reading and preprocessing"
   ]
  },
  {
   "cell_type": "code",
   "execution_count": 10,
   "metadata": {},
   "outputs": [],
   "source": [
    "data = pd.read_excel('/storage1/ryazantsev/tenderhack/DataSet_EKB_200000.xlsx')"
   ]
  },
  {
   "cell_type": "code",
   "execution_count": 11,
   "metadata": {},
   "outputs": [
    {
     "data": {
      "text/plain": [
       "Index(['Идентификатор СТЕ', 'Наименование СТЕ', 'Категория', 'Описание',\n",
       "       'Характеристики СТЕ', 'Регионы поставки',\n",
       "       'Кол-во заключенных контрактов', 'Поставщики', 'Страна происхождения',\n",
       "       'Другая продукция в контрактах', 'Просмотры', 'Идентификатор КПГЗ',\n",
       "       'Код КПГЗ', 'Модель', 'Цена'],\n",
       "      dtype='object')"
      ]
     },
     "execution_count": 11,
     "metadata": {},
     "output_type": "execute_result"
    }
   ],
   "source": [
    "data.columns"
   ]
  },
  {
   "cell_type": "code",
   "execution_count": 12,
   "metadata": {},
   "outputs": [],
   "source": [
    "def trim_invalid_items(x):\n",
    "    if x is np.nan:\n",
    "        return '[]'\n",
    "    else:\n",
    "        rindex = x.rfind('}')\n",
    "        return x[:rindex+1]+']'"
   ]
  },
  {
   "cell_type": "code",
   "execution_count": 13,
   "metadata": {},
   "outputs": [],
   "source": [
    "data['Другая продукция в контрактах']=data['Другая продукция в контрактах'].map(trim_invalid_items)"
   ]
  },
  {
   "cell_type": "markdown",
   "metadata": {},
   "source": [
    "### Feature extraction"
   ]
  },
  {
   "cell_type": "markdown",
   "metadata": {},
   "source": [
    "#### Category encoding"
   ]
  },
  {
   "cell_type": "code",
   "execution_count": 14,
   "metadata": {},
   "outputs": [
    {
     "data": {
      "text/plain": [
       "3810"
      ]
     },
     "execution_count": 14,
     "metadata": {},
     "output_type": "execute_result"
    }
   ],
   "source": [
    "data['Категория'].nunique()"
   ]
  },
  {
   "cell_type": "code",
   "execution_count": 15,
   "metadata": {},
   "outputs": [],
   "source": [
    "assert not data['Категория'].isna().sum()\n",
    "category_hasher = HashingVectorizer(n_features=10)\n",
    "category_features = category_hasher.fit_transform(data['Категория'])"
   ]
  },
  {
   "cell_type": "markdown",
   "metadata": {},
   "source": [
    "#### Region encoding"
   ]
  },
  {
   "cell_type": "code",
   "execution_count": 16,
   "metadata": {},
   "outputs": [
    {
     "data": {
      "text/plain": [
       "'[{\"Name\":\"Москва\"}]'"
      ]
     },
     "execution_count": 16,
     "metadata": {},
     "output_type": "execute_result"
    }
   ],
   "source": [
    "data['Регионы поставки'].iloc[-2]"
   ]
  },
  {
   "cell_type": "code",
   "execution_count": 17,
   "metadata": {},
   "outputs": [],
   "source": [
    "reg_feature_allregions = []\n",
    "reg_feature_nregions = []\n",
    "reg_counter = Counter()\n",
    "for z in data['Регионы поставки'].values:\n",
    "    regions = [x['Name'] for x in json.loads(z)] \n",
    "    reg_counter.update(regions)\n",
    "    reg_feature_allregions.append('Все регионы' in regions)\n",
    "    #reg_feature_moscow.append('Москва' in regions)\n",
    "    reg_feature_nregions.append(len(regions))"
   ]
  },
  {
   "cell_type": "code",
   "execution_count": 18,
   "metadata": {},
   "outputs": [],
   "source": [
    "allregions =   [' '.join([re.sub(' ', '_', x['Name']) for x in json.loads(z)]) for z in data['Регионы поставки'].values]"
   ]
  },
  {
   "cell_type": "code",
   "execution_count": 19,
   "metadata": {},
   "outputs": [],
   "source": [
    "region_vectorizer = CountVectorizer(lowercase='False')\n",
    "region_features = region_vectorizer.fit_transform(allregions)"
   ]
  },
  {
   "cell_type": "markdown",
   "metadata": {},
   "source": [
    "#### Supplier encodingm"
   ]
  },
  {
   "cell_type": "code",
   "execution_count": 20,
   "metadata": {},
   "outputs": [],
   "source": [
    "allsupliers = [' '.join([str(x['SupplierId']) for x in json.loads(z)]) for z in data['Поставщики'].values]\n",
    "supplier_vectorizer = HashingVectorizer(n_features=32, token_pattern='[0..9]*')\n",
    "supplier_features = supplier_vectorizer.fit_transform(allsupliers)"
   ]
  },
  {
   "cell_type": "markdown",
   "metadata": {},
   "source": [
    "#### Country encoding"
   ]
  },
  {
   "cell_type": "code",
   "execution_count": 21,
   "metadata": {},
   "outputs": [],
   "source": [
    "data['Страна происхождения'].fillna('Не указано', inplace=True)"
   ]
  },
  {
   "cell_type": "code",
   "execution_count": 22,
   "metadata": {},
   "outputs": [],
   "source": [
    "country_vectorizer = HashingVectorizer(n_features=10)\n",
    "country_features = country_vectorizer.fit_transform(data['Страна происхождения'])"
   ]
  },
  {
   "cell_type": "markdown",
   "metadata": {},
   "source": [
    "#### kpgz identifier encoding"
   ]
  },
  {
   "cell_type": "code",
   "execution_count": 23,
   "metadata": {},
   "outputs": [
    {
     "data": {
      "text/plain": [
       "24"
      ]
     },
     "execution_count": 23,
     "metadata": {},
     "output_type": "execute_result"
    }
   ],
   "source": [
    "data['Идентификатор КПГЗ'].isna().sum()"
   ]
  },
  {
   "cell_type": "code",
   "execution_count": 24,
   "metadata": {},
   "outputs": [],
   "source": [
    "data['Идентификатор КПГЗ'].fillna(value=-1, inplace=True)"
   ]
  },
  {
   "cell_type": "code",
   "execution_count": 25,
   "metadata": {},
   "outputs": [
    {
     "data": {
      "text/plain": [
       "3415"
      ]
     },
     "execution_count": 25,
     "metadata": {},
     "output_type": "execute_result"
    }
   ],
   "source": [
    "data['Идентификатор КПГЗ'].nunique()"
   ]
  },
  {
   "cell_type": "code",
   "execution_count": 26,
   "metadata": {},
   "outputs": [],
   "source": [
    "kpgz_identifier_vectorizer = HashingVectorizer(n_features=8)\n",
    "kpgz_identifier_features = kpgz_identifier_vectorizer.fit_transform([str(x) for x in data['Идентификатор КПГЗ'].values])"
   ]
  },
  {
   "cell_type": "code",
   "execution_count": 27,
   "metadata": {},
   "outputs": [
    {
     "data": {
      "text/plain": [
       "<200000x8 sparse matrix of type '<class 'numpy.float64'>'\n",
       "\twith 199976 stored elements in Compressed Sparse Row format>"
      ]
     },
     "execution_count": 27,
     "metadata": {},
     "output_type": "execute_result"
    }
   ],
   "source": [
    "kpgz_identifier_features"
   ]
  },
  {
   "cell_type": "markdown",
   "metadata": {},
   "source": [
    "#### kpgz code encoding"
   ]
  },
  {
   "cell_type": "code",
   "execution_count": 28,
   "metadata": {},
   "outputs": [],
   "source": [
    "data['Код КПГЗ'].fillna(value=-1, inplace=True)"
   ]
  },
  {
   "cell_type": "code",
   "execution_count": 29,
   "metadata": {},
   "outputs": [
    {
     "data": {
      "text/plain": [
       "3415"
      ]
     },
     "execution_count": 29,
     "metadata": {},
     "output_type": "execute_result"
    }
   ],
   "source": [
    "data['Код КПГЗ'].nunique()"
   ]
  },
  {
   "cell_type": "markdown",
   "metadata": {},
   "source": [
    "### model encoding"
   ]
  },
  {
   "cell_type": "markdown",
   "metadata": {},
   "source": [
    "Nope lol"
   ]
  },
  {
   "cell_type": "markdown",
   "metadata": {},
   "source": [
    "### Price handling"
   ]
  },
  {
   "cell_type": "code",
   "execution_count": 30,
   "metadata": {},
   "outputs": [],
   "source": [
    "def str_to_obj(s: str):\n",
    "    if pd.notna(s):\n",
    "        try:\n",
    "            return eval(s)\n",
    "        except SyntaxError:\n",
    "            return eval(s.rsplit(\"},\", 1)[0] + \"}]\")\n",
    "    return s"
   ]
  },
  {
   "cell_type": "code",
   "execution_count": 31,
   "metadata": {},
   "outputs": [],
   "source": [
    "def aggregate_prices(x):\n",
    "    if type(x) is float:\n",
    "        return -1,-1,-1,-1,0\n",
    "    else:\n",
    "        costs = [z['Cost'] for z in x]\n",
    "        return np.log10(np.min(costs)), np.log10(np.max(costs)), np.log10(np.mean(costs)), np.log10(np.median(costs)), len(costs)"
   ]
  },
  {
   "cell_type": "code",
   "execution_count": 32,
   "metadata": {},
   "outputs": [],
   "source": [
    "price_objects = list(map(str_to_obj, data['Цена']))"
   ]
  },
  {
   "cell_type": "code",
   "execution_count": 33,
   "metadata": {},
   "outputs": [],
   "source": [
    "price_features = np.array([aggregate_prices(x)  for x in price_objects])"
   ]
  },
  {
   "cell_type": "markdown",
   "metadata": {},
   "source": [
    "### Aggregating features together"
   ]
  },
  {
   "cell_type": "code",
   "execution_count": 34,
   "metadata": {},
   "outputs": [],
   "source": [
    "sparse_features = scipy.sparse.hstack([category_features, region_features, supplier_features, country_features, kpgz_identifier_features])"
   ]
  },
  {
   "cell_type": "code",
   "execution_count": 35,
   "metadata": {},
   "outputs": [
    {
     "data": {
      "text/plain": [
       "Index(['Идентификатор СТЕ', 'Наименование СТЕ', 'Категория', 'Описание',\n",
       "       'Характеристики СТЕ', 'Регионы поставки',\n",
       "       'Кол-во заключенных контрактов', 'Поставщики', 'Страна происхождения',\n",
       "       'Другая продукция в контрактах', 'Просмотры', 'Идентификатор КПГЗ',\n",
       "       'Код КПГЗ', 'Модель', 'Цена'],\n",
       "      dtype='object')"
      ]
     },
     "execution_count": 35,
     "metadata": {},
     "output_type": "execute_result"
    }
   ],
   "source": [
    "data.columns"
   ]
  },
  {
   "cell_type": "code",
   "execution_count": 36,
   "metadata": {},
   "outputs": [],
   "source": [
    "#these ones are exctracted with tinyBERT by global avg pooling\n",
    "name_embeddings = np.load('/storage1/nerusskikh/tenderhack/Names_Embeddings.npy')"
   ]
  },
  {
   "cell_type": "code",
   "execution_count": 37,
   "metadata": {},
   "outputs": [],
   "source": [
    "dense_features = np.hstack([data[['Кол-во заключенных контрактов', 'Просмотры']].fillna(-1).values, \n",
    "                            np.array(reg_feature_allregions)[:,None],\n",
    "                            np.array(reg_feature_nregions)[:,None],\n",
    "                            price_features,\n",
    "                            name_embeddings\n",
    "                           ])\n",
    "dense_features_divisor = dense_features.max(0)\n",
    "dense_features /= dense_features_divisor[None,:]"
   ]
  },
  {
   "cell_type": "markdown",
   "metadata": {},
   "source": [
    "### Target construction"
   ]
  },
  {
   "cell_type": "code",
   "execution_count": 38,
   "metadata": {},
   "outputs": [],
   "source": [
    "sku_numerator = {}"
   ]
  },
  {
   "cell_type": "code",
   "execution_count": 39,
   "metadata": {},
   "outputs": [],
   "source": [
    "for i, index_ in enumerate(data['Идентификатор СТЕ'].values):\n",
    "    sku_numerator[index_]=i"
   ]
  },
  {
   "cell_type": "code",
   "execution_count": 40,
   "metadata": {},
   "outputs": [],
   "source": [
    "cooccurence_matrix = dok_matrix((200000, 200000))\n",
    "offset_index = 200000\n",
    "invisible_sku = []"
   ]
  },
  {
   "cell_type": "markdown",
   "metadata": {},
   "source": [
    "Здесь для каждого товара строятся рейтинги сопутствующих товаров. Основная идея для рейтинга - как много товарных единиц в среднем покупают на контракт с СТЕ. Для того, чтобы исключить перекос рейтинга в пользу массовых, но дешевых товаров (в основном это расходные материалы) всем соgутствующим товарам, которые проходят в среднем более чем через половину контрактов для товара, присваивается максимальный рейтинг."
   ]
  },
  {
   "cell_type": "code",
   "execution_count": 41,
   "metadata": {},
   "outputs": [
    {
     "data": {
      "application/vnd.jupyter.widget-view+json": {
       "model_id": "26878e4f79b74e2aa1b455dec2a33c25",
       "version_major": 2,
       "version_minor": 0
      },
      "text/plain": [
       "HBox(children=(IntProgress(value=1, bar_style='info', max=1), HTML(value='')))"
      ]
     },
     "metadata": {},
     "output_type": "display_data"
    },
    {
     "name": "stdout",
     "output_type": "stream",
     "text": [
      "\n"
     ]
    }
   ],
   "source": [
    "for sku_id_, ncontracts, other_sku in tqdm(data[['Идентификатор СТЕ', 'Кол-во заключенных контрактов', 'Другая продукция в контрактах']].itertuples(index=False)):\n",
    "    other_sku = json.loads(other_sku)\n",
    "    i = sku_numerator[sku_id_]\n",
    "    for other_sku_ in other_sku:\n",
    "        other_sku_id = other_sku_['OtherSkuId']\n",
    "        if ncontracts>=1:\n",
    "            quantity = other_sku_['Quantity']/ncontracts\n",
    "            j = sku_numerator.get(other_sku_id)\n",
    "            #if j and quantity>0.3:\n",
    "            if j:\n",
    "                #cooccurence_matrix[i,j] = quantity\n",
    "                cooccurence_matrix[i,j] = min(quantity, 0.5)/0.5\n",
    "#             else:\n",
    "#                 sku_numerator[other_sku_id] = offset_index\n",
    "#                 offset_index+=1\n",
    "#                 invisible_sku.append(other_sku_)"
   ]
  },
  {
   "cell_type": "code",
   "execution_count": 42,
   "metadata": {},
   "outputs": [],
   "source": [
    "import scipy.sparse as sparse"
   ]
  },
  {
   "cell_type": "code",
   "execution_count": 43,
   "metadata": {},
   "outputs": [],
   "source": [
    "cooccurence_csr = cooccurence_matrix.tocsr()\n",
    "sparse_features = sparse_features.tocsr()"
   ]
  },
  {
   "cell_type": "code",
   "execution_count": 44,
   "metadata": {},
   "outputs": [],
   "source": [
    "from torch.utils.data import Dataset, DataLoader"
   ]
  },
  {
   "cell_type": "code",
   "execution_count": 45,
   "metadata": {},
   "outputs": [],
   "source": [
    "# class skuDataset(Dataset):\n",
    "#     def __init__(self, cmatrix):\n",
    "#         self.cmatrix = cmatrix\n",
    "#         self.rows_, self.cols_ = self.cmatrix.nonzero()\n",
    "#         #add some negative samples\n",
    "#         n = self.rows_.shape[0]\n",
    "#         self.rows_ = np.concatenate([self.rows_, np.random.randint(0, self.cmatrix.shape[0], n)])\n",
    "#         self.cols_ = np.concatenate([self.cols_, np.random.randint(0, self.cmatrix.shape[0], n)])\n",
    "#     def __len__(self):\n",
    "#         return self.rows_.shape[0]\n",
    "#     def __getitem__(self, index):\n",
    "#         i = self.rows_[index]\n",
    "#         j = self.cols_[index]\n",
    "#         val = self.cmatrix[i,j]\n",
    "#         return {'sku':i, 'other_sku':j, 'targets':val.astype(np.float32)}\n",
    "\n",
    "\n",
    "#dataloader = DataLoader(dataset, batch_size=2048, shuffle=True)"
   ]
  },
  {
   "cell_type": "code",
   "execution_count": 46,
   "metadata": {},
   "outputs": [],
   "source": [
    "### Wrapping the data in pytorch dataloader, model setup and training"
   ]
  },
  {
   "cell_type": "code",
   "execution_count": 47,
   "metadata": {},
   "outputs": [],
   "source": [
    "def getFeatures(index):\n",
    "    dense_ = dense_features[index]\n",
    "    sparse_ = np.array(sparse_features[index].todense()).squeeze()\n",
    "    return np.concatenate([sparse_, dense_])\n",
    "    #return sparse_, dense_\n",
    "    \n",
    "\n",
    "class skuDatasetWithFeatures(Dataset):\n",
    "    def __init__(self, cmatrix, n_negative=30):\n",
    "        self.cmatrix = cmatrix\n",
    "        self.n = cmatrix.shape[1]\n",
    "        self.n_negative = n_negative\n",
    "        \n",
    "    def __len__(self):\n",
    "        return self.cmatrix.shape[0]\n",
    "    def __getitem__(self, index):\n",
    "        row = self.cmatrix[index]\n",
    "        i, j = row.nonzero()\n",
    "        i = np.concatenate([i, np.zeros(self.n_negative,)])\n",
    "        j = np.concatenate([j, np.random.randint(0, self.n, self.n_negative)])\n",
    "        val = np.array(row[i,j]).flatten()\n",
    "        i+=index\n",
    "        query_features = np.vstack([getFeatures(index) for _ in range(len(j))])\n",
    "        key_features = np.vstack([getFeatures(j_) for j_ in j])\n",
    "        \n",
    "        return {'sku':i.flatten(), 'sku_features': query_features, 'other_sku':j.flatten(), \n",
    "                'other_sku_features':key_features, 'targets':val.astype(np.float32)}\n",
    "    \n",
    "def collate_fn(\n",
    "    batch\n",
    "):\n",
    "    sku = torch.LongTensor(np.concatenate([b[\"sku\"] for b in batch]))\n",
    "    other_sku =  torch.LongTensor(np.concatenate([b[\"other_sku\"] for b in batch]))\n",
    "    targets = torch.Tensor(np.concatenate([b[\"targets\"] for b in batch]))\n",
    "    sku_features = torch.Tensor(np.vstack([b[\"sku_features\"] for b in batch]))\n",
    "    other_sku_features = torch.Tensor(np.vstack([b[\"other_sku_features\"] for b in batch]))\n",
    "    return {\"sku\": sku, 'sku_features':sku_features, \"other_sku\": other_sku, \n",
    "            'other_sku_features':other_sku_features, \"targets\": targets}"
   ]
  },
  {
   "cell_type": "code",
   "execution_count": 48,
   "metadata": {},
   "outputs": [],
   "source": [
    "dataset = skuDatasetWithFeatures(cooccurence_csr)"
   ]
  },
  {
   "cell_type": "code",
   "execution_count": 49,
   "metadata": {},
   "outputs": [],
   "source": [
    "dataloader = DataLoader(dataset, batch_size=1, shuffle=True, collate_fn=collate_fn)"
   ]
  },
  {
   "cell_type": "code",
   "execution_count": 50,
   "metadata": {},
   "outputs": [],
   "source": [
    "class MLPEncoder(nn.Module):\n",
    "    def __init__(self, nfeatures=745, layer_sizes:list=[64,16]):\n",
    "        super().__init__()\n",
    "        self.module_list = []\n",
    "        self.module_list.append(nn.Linear(nfeatures, layer_sizes[0]))\n",
    "        for input_size, output_size in zip(layer_sizes, layer_sizes[1:]):\n",
    "            self.module_list.append(nn.ReLU())\n",
    "            self.module_list.append(nn.Linear(input_size, output_size))\n",
    "        self.model = nn.Sequential(*self.module_list)\n",
    "    def forward(self, x):\n",
    "        return self.model(x)\n",
    "        \n",
    "        \n",
    "\n",
    "class myNСF(nn.Module):\n",
    "    def __init__(\n",
    "        self, nfeatures=745, layer_sizes:list=[64, 16]\n",
    "    ):\n",
    "        super().__init__()\n",
    " \n",
    "        self.user_encoder = MLPEncoder(nfeatures, layer_sizes)\n",
    "        self.item_encoder =  MLPEncoder(nfeatures, layer_sizes)\n",
    " \n",
    "\n",
    "    def forward(\n",
    "        self, user_features: torch.Tensor, item_features: torch.Tensor\n",
    "    ) -> torch.Tensor:\n",
    "        user_embeddings = self.user_encoder(user_features)\n",
    "        item_embeddings = self.item_encoder(item_features)\n",
    "        products = (user_embeddings*item_embeddings).sum(-1)\n",
    "        return products"
   ]
  },
  {
   "cell_type": "code",
   "execution_count": 51,
   "metadata": {},
   "outputs": [],
   "source": [
    "from catalyst.contrib.nn import RAdam\n",
    "\n",
    "\n",
    "model = myNСF(745, (128, 32))\n",
    "optimizer = RAdam(model.parameters(), lr=1e-2)\n",
    "criterion = nn.BCEWithLogitsLoss()\n",
    "#criterion = nn.MSELoss()"
   ]
  },
  {
   "cell_type": "code",
   "execution_count": 52,
   "metadata": {},
   "outputs": [],
   "source": [
    "from catalyst.dl import SupervisedRunner\n",
    "\n",
    "class RecSysRunner(SupervisedRunner):\n",
    "    def handle_batch(self, batch):\n",
    "        logits = self.model(batch[\"sku_features\"], batch[\"other_sku_features\"])\n",
    "        sorted_indeces = torch.argsort(logits, descending=True)\n",
    "        self.batch[\"targets\"] = batch[\"targets\"][None, sorted_indeces]\n",
    "        self.batch[\"logits\"] = logits[None, sorted_indeces]\n",
    "\n",
    "runner = RecSysRunner()"
   ]
  },
  {
   "cell_type": "code",
   "execution_count": 53,
   "metadata": {},
   "outputs": [],
   "source": [
    "from catalyst import dl\n",
    "\n",
    " \n",
    " \n",
    "callbacks = [\n",
    "    dl.NDCGCallback(\"logits\", \"targets\", [1,3,5]),\n",
    "    dl.MAPCallback(\"logits\", \"targets\", [1,3,5]),\n",
    "    dl.MRRCallback(\"logits\", \"targets\", [1,3,5]),\n",
    "    dl.HitrateCallback(\"logits\", \"targets\", [1,3,5]),\n",
    "    dl.OptimizerCallback(\"loss\", accumulation_steps=64),\n",
    "    dl.CheckpointCallback(loader_key='train',metric_key='ndcg', minimize=False, use_runner_logdir=True)\n",
    "    #dl.BatchOverfitCallback(train=10, valid=1)\n",
    "]"
   ]
  },
  {
   "cell_type": "code",
   "execution_count": 54,
   "metadata": {},
   "outputs": [],
   "source": [
    "##WORKAROUNDS\n",
    "train_dataloader = dataloader\n",
    "valid_dataloader = dataloader"
   ]
  },
  {
   "cell_type": "code",
   "execution_count": null,
   "metadata": {},
   "outputs": [],
   "source": [
    "%%capture\n",
    "from pathlib import Path\n",
    "from datetime import datetime\n",
    "\n",
    "runner.train(\n",
    "    model=model,\n",
    "    optimizer=optimizer,\n",
    "    loaders={\"train\": train_dataloader, \n",
    "             #\"valid\": valid_dataloader\n",
    "            },\n",
    "    criterion=criterion,\n",
    "    callbacks=callbacks,\n",
    "    logdir=Path(\"logs\") / ('mlp_'+datetime.now().strftime(\"%Y%m%d-%H%M%S\")),\n",
    "    num_epochs=10,\n",
    "    verbose=True,\n",
    ")"
   ]
  },
  {
   "cell_type": "markdown",
   "metadata": {},
   "source": [
    "#### Embeddings inference and serialization"
   ]
  },
  {
   "cell_type": "code",
   "execution_count": 55,
   "metadata": {},
   "outputs": [],
   "source": [
    "class skuInferenceDatasetWithFeatures(Dataset):\n",
    "    def __init__(self, cmatrix):\n",
    "        self.cmatrix = cmatrix\n",
    "        self.n = cmatrix.shape[1]\n",
    "        \n",
    "    def __len__(self):\n",
    "        return self.cmatrix.shape[0]\n",
    "    def __getitem__(self, index):\n",
    "        query_features =  np.float32(getFeatures(index))      \n",
    "        return {'sku_features': query_features}"
   ]
  },
  {
   "cell_type": "code",
   "execution_count": 56,
   "metadata": {},
   "outputs": [],
   "source": [
    "inference_dataset = skuInferenceDatasetWithFeatures(cooccurence_csr)\n",
    "inference_dataloader = DataLoader(inference_dataset, batch_size=200, shuffle=False)"
   ]
  },
  {
   "cell_type": "code",
   "execution_count": 57,
   "metadata": {},
   "outputs": [
    {
     "data": {
      "text/plain": [
       "<All keys matched successfully>"
      ]
     },
     "execution_count": 57,
     "metadata": {},
     "output_type": "execute_result"
    }
   ],
   "source": [
    "model.load_state_dict(torch.load('/storage1/nerusskikh/tenderhack/logs/mlp_20210905-032436/best.pth', map_location='cpu')['model_state_dict'])"
   ]
  },
  {
   "cell_type": "code",
   "execution_count": 58,
   "metadata": {},
   "outputs": [
    {
     "data": {
      "application/vnd.jupyter.widget-view+json": {
       "model_id": "249746582cce4ec589f31a15d634744b",
       "version_major": 2,
       "version_minor": 0
      },
      "text/plain": [
       "HBox(children=(IntProgress(value=0, max=1000), HTML(value='')))"
      ]
     },
     "metadata": {},
     "output_type": "display_data"
    },
    {
     "name": "stdout",
     "output_type": "stream",
     "text": [
      "\n"
     ]
    }
   ],
   "source": [
    "embeddings_query = []\n",
    "embeddings_key = []\n",
    "for batch in tqdm(inference_dataloader):\n",
    "    batch_embs_query = model.user_encoder(batch['sku_features'])\n",
    "    batch_embs_key = model.item_encoder(batch['sku_features'])\n",
    "    embeddings_query.append(batch_embs_query.cpu().detach().numpy())\n",
    "    embeddings_key.append(batch_embs_key.cpu().detach().numpy())"
   ]
  },
  {
   "cell_type": "code",
   "execution_count": 59,
   "metadata": {},
   "outputs": [],
   "source": [
    "embeddings_query = np.vstack(embeddings_query)\n",
    "embeddings_key = np.vstack(embeddings_key)"
   ]
  },
  {
   "cell_type": "code",
   "execution_count": 60,
   "metadata": {},
   "outputs": [],
   "source": [
    "import faiss\n",
    "index = faiss.IndexFlatIP(embeddings_key.shape[1])\n",
    "index.add(embeddings_key)"
   ]
  },
  {
   "cell_type": "code",
   "execution_count": 61,
   "metadata": {},
   "outputs": [],
   "source": [
    "def get_recommendations(query_index, k=6):\n",
    "    d, neighbour_indexes = index.search(embeddings_query[query_index:query_index+1], k)\n",
    "    neighbour_indexes = list(neighbour_indexes.flatten())\n",
    "    if neighbour_indexes[0]!=query_index:\n",
    "        neighbour_indexes = [query_index]+neighbour_indexes[:-1]\n",
    "    return data.iloc[neighbour_indexes]"
   ]
  },
  {
   "cell_type": "code",
   "execution_count": 62,
   "metadata": {},
   "outputs": [
    {
     "data": {
      "text/html": [
       "<div>\n",
       "<style scoped>\n",
       "    .dataframe tbody tr th:only-of-type {\n",
       "        vertical-align: middle;\n",
       "    }\n",
       "\n",
       "    .dataframe tbody tr th {\n",
       "        vertical-align: top;\n",
       "    }\n",
       "\n",
       "    .dataframe thead th {\n",
       "        text-align: right;\n",
       "    }\n",
       "</style>\n",
       "<table border=\"1\" class=\"dataframe\">\n",
       "  <thead>\n",
       "    <tr style=\"text-align: right;\">\n",
       "      <th></th>\n",
       "      <th>Идентификатор СТЕ</th>\n",
       "      <th>Наименование СТЕ</th>\n",
       "      <th>Категория</th>\n",
       "      <th>Описание</th>\n",
       "      <th>Характеристики СТЕ</th>\n",
       "      <th>Регионы поставки</th>\n",
       "      <th>Кол-во заключенных контрактов</th>\n",
       "      <th>Поставщики</th>\n",
       "      <th>Страна происхождения</th>\n",
       "      <th>Другая продукция в контрактах</th>\n",
       "      <th>Просмотры</th>\n",
       "      <th>Идентификатор КПГЗ</th>\n",
       "      <th>Код КПГЗ</th>\n",
       "      <th>Модель</th>\n",
       "      <th>Цена</th>\n",
       "    </tr>\n",
       "  </thead>\n",
       "  <tbody>\n",
       "    <tr>\n",
       "      <th>2</th>\n",
       "      <td>34172198</td>\n",
       "      <td>Елка пристенно-угловая Графская премиум 210 см...</td>\n",
       "      <td>Предметы внутреннего интерьера</td>\n",
       "      <td>NaN</td>\n",
       "      <td>[{\"Name\":\"Цвет\",\"Id\":340085190,\"Value\":\"Зелены...</td>\n",
       "      <td>[{\"Name\":\"Москва\"},{\"Name\":\"Все регионы\"}]</td>\n",
       "      <td>NaN</td>\n",
       "      <td>[{\"SupplierId\":1348988,\"Name\":\"ИП Чепало Оксан...</td>\n",
       "      <td>Не указано</td>\n",
       "      <td>[]</td>\n",
       "      <td>5</td>\n",
       "      <td>68093.0</td>\n",
       "      <td>01.20.08</td>\n",
       "      <td>Елка пристенно-угловая Графская премиум 210 см.</td>\n",
       "      <td>NaN</td>\n",
       "    </tr>\n",
       "    <tr>\n",
       "      <th>76663</th>\n",
       "      <td>23151701</td>\n",
       "      <td>Гирлянда \"Бахрома\"</td>\n",
       "      <td>Предметы внутреннего интерьера</td>\n",
       "      <td>NaN</td>\n",
       "      <td>[{\"Name\":\"Вид гирлянды\",\"Id\":-318490441,\"Value...</td>\n",
       "      <td>[{\"Name\":\"Москва\"},{\"Name\":\"Московская\"}]</td>\n",
       "      <td>9.0</td>\n",
       "      <td>[{\"SupplierId\":1796556,\"Name\":\"ООО \\\"ТМЦ\\\"\",\"I...</td>\n",
       "      <td>Не указано</td>\n",
       "      <td>[{\"OtherSkuId\":34264045,\"OtherSkuName\":\"Бант н...</td>\n",
       "      <td>2</td>\n",
       "      <td>68093.0</td>\n",
       "      <td>01.20.08</td>\n",
       "      <td>Гирлянда уличная</td>\n",
       "      <td>NaN</td>\n",
       "    </tr>\n",
       "    <tr>\n",
       "      <th>197544</th>\n",
       "      <td>31420292</td>\n",
       "      <td>Плакат \"Поздравляем с Днём победы!\": Формат А2</td>\n",
       "      <td>Канцелярские журналы</td>\n",
       "      <td>Наглядно-оформительский плакат &amp;quot;Поздравля...</td>\n",
       "      <td>[{\"Name\":\"Вид продукции\",\"Id\":-681544431,\"Valu...</td>\n",
       "      <td>[{\"Name\":\"Москва\"},{\"Name\":\"Московская\"},{\"Nam...</td>\n",
       "      <td>NaN</td>\n",
       "      <td>[{\"SupplierId\":1263059,\"Name\":\"ООО \\\"УЧМАГ\\\"\",...</td>\n",
       "      <td>РОССИЯ</td>\n",
       "      <td>[]</td>\n",
       "      <td>0</td>\n",
       "      <td>12104674.0</td>\n",
       "      <td>01.15.02.05.03</td>\n",
       "      <td>-</td>\n",
       "      <td>NaN</td>\n",
       "    </tr>\n",
       "    <tr>\n",
       "      <th>140803</th>\n",
       "      <td>34411746</td>\n",
       "      <td>Гирлянда \"Бахрома\" с насадками \"Ёлки\"</td>\n",
       "      <td>Предметы внутреннего интерьера</td>\n",
       "      <td>NaN</td>\n",
       "      <td>[{\"Name\":\"Вид гирлянды\",\"Id\":350448099,\"Value\"...</td>\n",
       "      <td>[{\"Name\":\"Москва\"}]</td>\n",
       "      <td>3.0</td>\n",
       "      <td>[{\"SupplierId\":2291514,\"Name\":\"ООО \\\"СИМА ТЕНД...</td>\n",
       "      <td>КИТАЙ</td>\n",
       "      <td>[{\"OtherSkuId\":34409993,\"OtherSkuName\":\"Бант п...</td>\n",
       "      <td>0</td>\n",
       "      <td>68093.0</td>\n",
       "      <td>01.20.08</td>\n",
       "      <td>Гирлянда</td>\n",
       "      <td>NaN</td>\n",
       "    </tr>\n",
       "    <tr>\n",
       "      <th>123315</th>\n",
       "      <td>20680221</td>\n",
       "      <td>Гирлянда \"Нить\"</td>\n",
       "      <td>Предметы внутреннего интерьера</td>\n",
       "      <td>NaN</td>\n",
       "      <td>[{\"Name\":\"Вид продукции\",\"Id\":-495980289,\"Valu...</td>\n",
       "      <td>[{\"Name\":\"Москва\"}]</td>\n",
       "      <td>4.0</td>\n",
       "      <td>[{\"SupplierId\":1258018,\"Name\":\"ООО \\\"КОМПУС-М\\...</td>\n",
       "      <td>Не указано</td>\n",
       "      <td>[{\"OtherSkuId\":34333319,\"OtherSkuName\":\"БАХРОМ...</td>\n",
       "      <td>1</td>\n",
       "      <td>68093.0</td>\n",
       "      <td>01.20.08</td>\n",
       "      <td>Гирлянда</td>\n",
       "      <td>NaN</td>\n",
       "    </tr>\n",
       "    <tr>\n",
       "      <th>140697</th>\n",
       "      <td>34241928</td>\n",
       "      <td>Гирлянда \"Бахрома\"</td>\n",
       "      <td>Предметы внутреннего интерьера</td>\n",
       "      <td>NaN</td>\n",
       "      <td>[{\"Name\":\"Вид насадки\",\"Id\":342393214,\"Value\":...</td>\n",
       "      <td>[{\"Name\":\"Москва\"}]</td>\n",
       "      <td>4.0</td>\n",
       "      <td>[{\"SupplierId\":2291514,\"Name\":\"ООО \\\"СИМА ТЕНД...</td>\n",
       "      <td>КИТАЙ</td>\n",
       "      <td>[{\"OtherSkuId\":34234191,\"OtherSkuName\":\"Аромас...</td>\n",
       "      <td>0</td>\n",
       "      <td>68093.0</td>\n",
       "      <td>01.20.08</td>\n",
       "      <td>Гирлянда</td>\n",
       "      <td>NaN</td>\n",
       "    </tr>\n",
       "    <tr>\n",
       "      <th>197625</th>\n",
       "      <td>34241915</td>\n",
       "      <td>Гирлянда \"Нить\"</td>\n",
       "      <td>Предметы внутреннего интерьера</td>\n",
       "      <td>NaN</td>\n",
       "      <td>[{\"Name\":\"Вид продукции\",\"Id\":342392908,\"Value...</td>\n",
       "      <td>[{\"Name\":\"Москва\"}]</td>\n",
       "      <td>3.0</td>\n",
       "      <td>[{\"SupplierId\":2291514,\"Name\":\"ООО \\\"СИМА ТЕНД...</td>\n",
       "      <td>КИТАЙ</td>\n",
       "      <td>[{\"OtherSkuId\":34234191,\"OtherSkuName\":\"Аромас...</td>\n",
       "      <td>1</td>\n",
       "      <td>68093.0</td>\n",
       "      <td>01.20.08</td>\n",
       "      <td>Гирлянда</td>\n",
       "      <td>NaN</td>\n",
       "    </tr>\n",
       "  </tbody>\n",
       "</table>\n",
       "</div>"
      ],
      "text/plain": [
       "        Идентификатор СТЕ                                   Наименование СТЕ  \\\n",
       "2                34172198  Елка пристенно-угловая Графская премиум 210 см...   \n",
       "76663            23151701                                 Гирлянда \"Бахрома\"   \n",
       "197544           31420292     Плакат \"Поздравляем с Днём победы!\": Формат А2   \n",
       "140803           34411746              Гирлянда \"Бахрома\" с насадками \"Ёлки\"   \n",
       "123315           20680221                                    Гирлянда \"Нить\"   \n",
       "140697           34241928                                 Гирлянда \"Бахрома\"   \n",
       "197625           34241915                                    Гирлянда \"Нить\"   \n",
       "\n",
       "                             Категория  \\\n",
       "2       Предметы внутреннего интерьера   \n",
       "76663   Предметы внутреннего интерьера   \n",
       "197544            Канцелярские журналы   \n",
       "140803  Предметы внутреннего интерьера   \n",
       "123315  Предметы внутреннего интерьера   \n",
       "140697  Предметы внутреннего интерьера   \n",
       "197625  Предметы внутреннего интерьера   \n",
       "\n",
       "                                                 Описание  \\\n",
       "2                                                     NaN   \n",
       "76663                                                 NaN   \n",
       "197544  Наглядно-оформительский плакат &quot;Поздравля...   \n",
       "140803                                                NaN   \n",
       "123315                                                NaN   \n",
       "140697                                                NaN   \n",
       "197625                                                NaN   \n",
       "\n",
       "                                       Характеристики СТЕ  \\\n",
       "2       [{\"Name\":\"Цвет\",\"Id\":340085190,\"Value\":\"Зелены...   \n",
       "76663   [{\"Name\":\"Вид гирлянды\",\"Id\":-318490441,\"Value...   \n",
       "197544  [{\"Name\":\"Вид продукции\",\"Id\":-681544431,\"Valu...   \n",
       "140803  [{\"Name\":\"Вид гирлянды\",\"Id\":350448099,\"Value\"...   \n",
       "123315  [{\"Name\":\"Вид продукции\",\"Id\":-495980289,\"Valu...   \n",
       "140697  [{\"Name\":\"Вид насадки\",\"Id\":342393214,\"Value\":...   \n",
       "197625  [{\"Name\":\"Вид продукции\",\"Id\":342392908,\"Value...   \n",
       "\n",
       "                                         Регионы поставки  \\\n",
       "2              [{\"Name\":\"Москва\"},{\"Name\":\"Все регионы\"}]   \n",
       "76663           [{\"Name\":\"Москва\"},{\"Name\":\"Московская\"}]   \n",
       "197544  [{\"Name\":\"Москва\"},{\"Name\":\"Московская\"},{\"Nam...   \n",
       "140803                                [{\"Name\":\"Москва\"}]   \n",
       "123315                                [{\"Name\":\"Москва\"}]   \n",
       "140697                                [{\"Name\":\"Москва\"}]   \n",
       "197625                                [{\"Name\":\"Москва\"}]   \n",
       "\n",
       "        Кол-во заключенных контрактов  \\\n",
       "2                                 NaN   \n",
       "76663                             9.0   \n",
       "197544                            NaN   \n",
       "140803                            3.0   \n",
       "123315                            4.0   \n",
       "140697                            4.0   \n",
       "197625                            3.0   \n",
       "\n",
       "                                               Поставщики  \\\n",
       "2       [{\"SupplierId\":1348988,\"Name\":\"ИП Чепало Оксан...   \n",
       "76663   [{\"SupplierId\":1796556,\"Name\":\"ООО \\\"ТМЦ\\\"\",\"I...   \n",
       "197544  [{\"SupplierId\":1263059,\"Name\":\"ООО \\\"УЧМАГ\\\"\",...   \n",
       "140803  [{\"SupplierId\":2291514,\"Name\":\"ООО \\\"СИМА ТЕНД...   \n",
       "123315  [{\"SupplierId\":1258018,\"Name\":\"ООО \\\"КОМПУС-М\\...   \n",
       "140697  [{\"SupplierId\":2291514,\"Name\":\"ООО \\\"СИМА ТЕНД...   \n",
       "197625  [{\"SupplierId\":2291514,\"Name\":\"ООО \\\"СИМА ТЕНД...   \n",
       "\n",
       "       Страна происхождения  \\\n",
       "2                Не указано   \n",
       "76663            Не указано   \n",
       "197544               РОССИЯ   \n",
       "140803                КИТАЙ   \n",
       "123315           Не указано   \n",
       "140697                КИТАЙ   \n",
       "197625                КИТАЙ   \n",
       "\n",
       "                            Другая продукция в контрактах  Просмотры  \\\n",
       "2                                                      []          5   \n",
       "76663   [{\"OtherSkuId\":34264045,\"OtherSkuName\":\"Бант н...          2   \n",
       "197544                                                 []          0   \n",
       "140803  [{\"OtherSkuId\":34409993,\"OtherSkuName\":\"Бант п...          0   \n",
       "123315  [{\"OtherSkuId\":34333319,\"OtherSkuName\":\"БАХРОМ...          1   \n",
       "140697  [{\"OtherSkuId\":34234191,\"OtherSkuName\":\"Аромас...          0   \n",
       "197625  [{\"OtherSkuId\":34234191,\"OtherSkuName\":\"Аромас...          1   \n",
       "\n",
       "        Идентификатор КПГЗ        Код КПГЗ  \\\n",
       "2                  68093.0        01.20.08   \n",
       "76663              68093.0        01.20.08   \n",
       "197544          12104674.0  01.15.02.05.03   \n",
       "140803             68093.0        01.20.08   \n",
       "123315             68093.0        01.20.08   \n",
       "140697             68093.0        01.20.08   \n",
       "197625             68093.0        01.20.08   \n",
       "\n",
       "                                                 Модель Цена  \n",
       "2       Елка пристенно-угловая Графская премиум 210 см.  NaN  \n",
       "76663                                  Гирлянда уличная  NaN  \n",
       "197544                                                -  NaN  \n",
       "140803                                         Гирлянда  NaN  \n",
       "123315                                         Гирлянда  NaN  \n",
       "140697                                         Гирлянда  NaN  \n",
       "197625                                         Гирлянда  NaN  "
      ]
     },
     "execution_count": 62,
     "metadata": {},
     "output_type": "execute_result"
    }
   ],
   "source": [
    "#у этого товара нет сопутки, поэтому классическая коллаборативная фильтрация не работает\n",
    "get_recommendations(2, k=7)"
   ]
  }
 ],
 "metadata": {
  "kernelspec": {
   "display_name": "Python 3",
   "language": "python",
   "name": "python3"
  },
  "language_info": {
   "codemirror_mode": {
    "name": "ipython",
    "version": 3
   },
   "file_extension": ".py",
   "mimetype": "text/x-python",
   "name": "python",
   "nbconvert_exporter": "python",
   "pygments_lexer": "ipython3",
   "version": "3.6.10"
  }
 },
 "nbformat": 4,
 "nbformat_minor": 4
}
